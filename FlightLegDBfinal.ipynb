{
  "nbformat": 4,
  "nbformat_minor": 0,
  "metadata": {
    "colab": {
      "name": "FlightLegDBfinal.ipynb",
      "provenance": [],
      "collapsed_sections": []
    },
    "kernelspec": {
      "name": "python3",
      "display_name": "Python 3"
    },
    "language_info": {
      "name": "python"
    }
  },
  "cells": [
    {
      "cell_type": "markdown",
      "source": [
        "All comments are above operations that they describe\n",
        "\n",
        "Starting from all necessary imports"
      ],
      "metadata": {
        "id": "YASceNjw075y"
      }
    },
    {
      "cell_type": "code",
      "source": [
        "import sqlite3\n",
        "import pandas as pd\n",
        "import datetime as dt\n",
        "import requests\n",
        "import csv\n",
        "import random"
      ],
      "metadata": {
        "id": "lvtE5F_HVM_E"
      },
      "execution_count": null,
      "outputs": []
    },
    {
      "cell_type": "markdown",
      "source": [
        "Creating/connecting to database"
      ],
      "metadata": {
        "id": "Nq8IZsWu1F8b"
      }
    },
    {
      "cell_type": "code",
      "execution_count": null,
      "metadata": {
        "id": "i0pYGzW0VL6d"
      },
      "outputs": [],
      "source": [
        "connection = sqlite3.connect('FlightLeg.db')"
      ]
    },
    {
      "cell_type": "markdown",
      "source": [
        "Creating a cursor"
      ],
      "metadata": {
        "id": "99AUnaLv1M3l"
      }
    },
    {
      "cell_type": "code",
      "source": [
        "cursor = connection.cursor()"
      ],
      "metadata": {
        "id": "3zgY5OoVVXIL"
      },
      "execution_count": null,
      "outputs": []
    },
    {
      "cell_type": "markdown",
      "source": [
        "Implementation of a method that creates a FlightLeg table"
      ],
      "metadata": {
        "id": "OpYnngiB1Qzw"
      }
    },
    {
      "cell_type": "code",
      "source": [
        "def create_table(cursor):\n",
        "  table = (\"\"\"CREATE TABLE IF NOT EXISTS FlightLeg\n",
        "                    (id INTEGER PRIMARY KEY NOT NULL,\n",
        "                    tailNumber CHAR(10),\n",
        "                    sourceAirportCode CHAR(3),\n",
        "                    destinationAirportCode CHAR(3),\n",
        "                    sourceCountryCode CHAR(3),\n",
        "                    destinatrionCountryCode CHAR(3),\n",
        "                    departureTimeUtc DATETIME NOT NULL,\n",
        "                    landingTimeUtc DATETIME NOT NULL)\"\"\")\n",
        "  \n",
        "  cursor.execute(table)"
      ],
      "metadata": {
        "id": "4BSMd2_EVbnQ"
      },
      "execution_count": null,
      "outputs": []
    },
    {
      "cell_type": "markdown",
      "source": [
        "Call for create_table method"
      ],
      "metadata": {
        "id": "XKnk6KEq1aDS"
      }
    },
    {
      "cell_type": "code",
      "source": [
        "create_table(cursor)"
      ],
      "metadata": {
        "id": "glFEbY6xi5aO"
      },
      "execution_count": null,
      "outputs": []
    },
    {
      "cell_type": "markdown",
      "source": [
        "This is where the fun begins :D \n",
        "Downloading the flightlegs.csv file from provided url"
      ],
      "metadata": {
        "id": "NDlShOGv1iKE"
      }
    },
    {
      "cell_type": "code",
      "source": [
        "!wget https://bitpeak.pl/datasets/flightlegs.csv"
      ],
      "metadata": {
        "colab": {
          "base_uri": "https://localhost:8080/"
        },
        "id": "2N6y8_xQV0Ry",
        "outputId": "7c1cfe99-51c8-4ef4-9bf0-12ef484869ff"
      },
      "execution_count": null,
      "outputs": [
        {
          "output_type": "stream",
          "name": "stdout",
          "text": [
            "--2022-01-11 12:09:19--  https://bitpeak.pl/datasets/flightlegs.csv\n",
            "Resolving bitpeak.pl (bitpeak.pl)... 188.165.23.19\n",
            "Connecting to bitpeak.pl (bitpeak.pl)|188.165.23.19|:443... connected.\n",
            "HTTP request sent, awaiting response... 200 OK\n",
            "Length: 63132 (62K) [text/csv]\n",
            "Saving to: ‘flightlegs.csv’\n",
            "\n",
            "\rflightlegs.csv        0%[                    ]       0  --.-KB/s               \rflightlegs.csv      100%[===================>]  61.65K  --.-KB/s    in 0.03s   \n",
            "\n",
            "2022-01-11 12:09:19 (2.33 MB/s) - ‘flightlegs.csv’ saved [63132/63132]\n",
            "\n"
          ]
        }
      ]
    },
    {
      "cell_type": "markdown",
      "source": [
        "Opening csv file and converting it to a pandas DataFrame"
      ],
      "metadata": {
        "id": "VJxt_ZaiggAl"
      }
    },
    {
      "cell_type": "code",
      "source": [
        "data = pd.read_csv('flightlegs.csv', sep=';')\n",
        "df = pd.DataFrame(data)\n",
        "df.head()"
      ],
      "metadata": {
        "id": "c4LakyG1e6OQ",
        "colab": {
          "base_uri": "https://localhost:8080/",
          "height": 206
        },
        "outputId": "cc331a10-8a3e-4348-d8a3-b8ffb6365542"
      },
      "execution_count": null,
      "outputs": [
        {
          "output_type": "execute_result",
          "data": {
            "text/html": [
              "\n",
              "  <div id=\"df-b8637988-064f-40d7-ae2b-6ed0d3156eee\">\n",
              "    <div class=\"colab-df-container\">\n",
              "      <div>\n",
              "<style scoped>\n",
              "    .dataframe tbody tr th:only-of-type {\n",
              "        vertical-align: middle;\n",
              "    }\n",
              "\n",
              "    .dataframe tbody tr th {\n",
              "        vertical-align: top;\n",
              "    }\n",
              "\n",
              "    .dataframe thead th {\n",
              "        text-align: right;\n",
              "    }\n",
              "</style>\n",
              "<table border=\"1\" class=\"dataframe\">\n",
              "  <thead>\n",
              "    <tr style=\"text-align: right;\">\n",
              "      <th></th>\n",
              "      <th>tailNumber</th>\n",
              "      <th>source_airport_code</th>\n",
              "      <th>source_country_code</th>\n",
              "      <th>destination_airport_code</th>\n",
              "      <th>destination_country_code</th>\n",
              "      <th>departure_time</th>\n",
              "      <th>landing_time</th>\n",
              "    </tr>\n",
              "  </thead>\n",
              "  <tbody>\n",
              "    <tr>\n",
              "      <th>0</th>\n",
              "      <td>A6-EUC</td>\n",
              "      <td>DXB</td>\n",
              "      <td>ARE</td>\n",
              "      <td>CAI</td>\n",
              "      <td>EGY</td>\n",
              "      <td>2021-11-30 04:47:00</td>\n",
              "      <td>2021-11-30 08:25:00</td>\n",
              "    </tr>\n",
              "    <tr>\n",
              "      <th>1</th>\n",
              "      <td>A6-ENE</td>\n",
              "      <td>ACC</td>\n",
              "      <td>GHA</td>\n",
              "      <td>ABJ</td>\n",
              "      <td>CIV</td>\n",
              "      <td>2021-11-29 13:35:00</td>\n",
              "      <td>2021-11-29 14:17:00</td>\n",
              "    </tr>\n",
              "    <tr>\n",
              "      <th>2</th>\n",
              "      <td>A6-END</td>\n",
              "      <td>DXB</td>\n",
              "      <td>ARE</td>\n",
              "      <td>MNL</td>\n",
              "      <td>PHL</td>\n",
              "      <td>2021-11-27 23:50:11</td>\n",
              "      <td>2021-11-28 07:58:00</td>\n",
              "    </tr>\n",
              "    <tr>\n",
              "      <th>3</th>\n",
              "      <td>A6-EPD</td>\n",
              "      <td>IST</td>\n",
              "      <td>TUR</td>\n",
              "      <td>DXB</td>\n",
              "      <td>ARE</td>\n",
              "      <td>2021-11-28 17:51:53</td>\n",
              "      <td>2021-11-28 21:31:00</td>\n",
              "    </tr>\n",
              "    <tr>\n",
              "      <th>4</th>\n",
              "      <td>A6-EUU</td>\n",
              "      <td>JED</td>\n",
              "      <td>SAU</td>\n",
              "      <td>DXB</td>\n",
              "      <td>ARE</td>\n",
              "      <td>2021-11-28 08:53:00</td>\n",
              "      <td>2021-11-28 11:10:00</td>\n",
              "    </tr>\n",
              "  </tbody>\n",
              "</table>\n",
              "</div>\n",
              "      <button class=\"colab-df-convert\" onclick=\"convertToInteractive('df-b8637988-064f-40d7-ae2b-6ed0d3156eee')\"\n",
              "              title=\"Convert this dataframe to an interactive table.\"\n",
              "              style=\"display:none;\">\n",
              "        \n",
              "  <svg xmlns=\"http://www.w3.org/2000/svg\" height=\"24px\"viewBox=\"0 0 24 24\"\n",
              "       width=\"24px\">\n",
              "    <path d=\"M0 0h24v24H0V0z\" fill=\"none\"/>\n",
              "    <path d=\"M18.56 5.44l.94 2.06.94-2.06 2.06-.94-2.06-.94-.94-2.06-.94 2.06-2.06.94zm-11 1L8.5 8.5l.94-2.06 2.06-.94-2.06-.94L8.5 2.5l-.94 2.06-2.06.94zm10 10l.94 2.06.94-2.06 2.06-.94-2.06-.94-.94-2.06-.94 2.06-2.06.94z\"/><path d=\"M17.41 7.96l-1.37-1.37c-.4-.4-.92-.59-1.43-.59-.52 0-1.04.2-1.43.59L10.3 9.45l-7.72 7.72c-.78.78-.78 2.05 0 2.83L4 21.41c.39.39.9.59 1.41.59.51 0 1.02-.2 1.41-.59l7.78-7.78 2.81-2.81c.8-.78.8-2.07 0-2.86zM5.41 20L4 18.59l7.72-7.72 1.47 1.35L5.41 20z\"/>\n",
              "  </svg>\n",
              "      </button>\n",
              "      \n",
              "  <style>\n",
              "    .colab-df-container {\n",
              "      display:flex;\n",
              "      flex-wrap:wrap;\n",
              "      gap: 12px;\n",
              "    }\n",
              "\n",
              "    .colab-df-convert {\n",
              "      background-color: #E8F0FE;\n",
              "      border: none;\n",
              "      border-radius: 50%;\n",
              "      cursor: pointer;\n",
              "      display: none;\n",
              "      fill: #1967D2;\n",
              "      height: 32px;\n",
              "      padding: 0 0 0 0;\n",
              "      width: 32px;\n",
              "    }\n",
              "\n",
              "    .colab-df-convert:hover {\n",
              "      background-color: #E2EBFA;\n",
              "      box-shadow: 0px 1px 2px rgba(60, 64, 67, 0.3), 0px 1px 3px 1px rgba(60, 64, 67, 0.15);\n",
              "      fill: #174EA6;\n",
              "    }\n",
              "\n",
              "    [theme=dark] .colab-df-convert {\n",
              "      background-color: #3B4455;\n",
              "      fill: #D2E3FC;\n",
              "    }\n",
              "\n",
              "    [theme=dark] .colab-df-convert:hover {\n",
              "      background-color: #434B5C;\n",
              "      box-shadow: 0px 1px 3px 1px rgba(0, 0, 0, 0.15);\n",
              "      filter: drop-shadow(0px 1px 2px rgba(0, 0, 0, 0.3));\n",
              "      fill: #FFFFFF;\n",
              "    }\n",
              "  </style>\n",
              "\n",
              "      <script>\n",
              "        const buttonEl =\n",
              "          document.querySelector('#df-b8637988-064f-40d7-ae2b-6ed0d3156eee button.colab-df-convert');\n",
              "        buttonEl.style.display =\n",
              "          google.colab.kernel.accessAllowed ? 'block' : 'none';\n",
              "\n",
              "        async function convertToInteractive(key) {\n",
              "          const element = document.querySelector('#df-b8637988-064f-40d7-ae2b-6ed0d3156eee');\n",
              "          const dataTable =\n",
              "            await google.colab.kernel.invokeFunction('convertToInteractive',\n",
              "                                                     [key], {});\n",
              "          if (!dataTable) return;\n",
              "\n",
              "          const docLinkHtml = 'Like what you see? Visit the ' +\n",
              "            '<a target=\"_blank\" href=https://colab.research.google.com/notebooks/data_table.ipynb>data table notebook</a>'\n",
              "            + ' to learn more about interactive tables.';\n",
              "          element.innerHTML = '';\n",
              "          dataTable['output_type'] = 'display_data';\n",
              "          await google.colab.output.renderOutput(dataTable, element);\n",
              "          const docLink = document.createElement('div');\n",
              "          docLink.innerHTML = docLinkHtml;\n",
              "          element.appendChild(docLink);\n",
              "        }\n",
              "      </script>\n",
              "    </div>\n",
              "  </div>\n",
              "  "
            ],
            "text/plain": [
              "  tailNumber source_airport_code  ...       departure_time         landing_time\n",
              "0     A6-EUC                 DXB  ...  2021-11-30 04:47:00  2021-11-30 08:25:00\n",
              "1     A6-ENE                 ACC  ...  2021-11-29 13:35:00  2021-11-29 14:17:00\n",
              "2     A6-END                 DXB  ...  2021-11-27 23:50:11  2021-11-28 07:58:00\n",
              "3     A6-EPD                 IST  ...  2021-11-28 17:51:53  2021-11-28 21:31:00\n",
              "4     A6-EUU                 JED  ...  2021-11-28 08:53:00  2021-11-28 11:10:00\n",
              "\n",
              "[5 rows x 7 columns]"
            ]
          },
          "metadata": {},
          "execution_count": 7
        }
      ]
    },
    {
      "cell_type": "markdown",
      "source": [
        "Inserting all data from the dataframe into FlightLeg table"
      ],
      "metadata": {
        "id": "A0XP8Kmd15-y"
      }
    },
    {
      "cell_type": "code",
      "source": [
        "for row in df.itertuples():\n",
        "  insert_sql = (f\"INSERT INTO FlightLeg (id, tailNumber, sourceAirportCode, destinationAirportCode, sourceCountryCode, destinatrionCountryCode, departureTimeUtc, landingTimeUtc) VALUES ({row[0]}, '{row[1]}', '{row[2]}', '{row[3]}', '{row[4]}', '{row[5]}', '{row[6]}', '{row[7]}');\")\n",
        "  cursor.execute(insert_sql)"
      ],
      "metadata": {
        "id": "eqWchTc9tZpF"
      },
      "execution_count": null,
      "outputs": []
    },
    {
      "cell_type": "markdown",
      "source": [
        "Adding two new columns, flightDuration and flightType"
      ],
      "metadata": {
        "id": "BOP4jYkp2Hq1"
      }
    },
    {
      "cell_type": "code",
      "source": [
        "cursor.execute(\"ALTER TABLE FlightLeg ADD COLUMN flightDuration INTEGER\")\n",
        "cursor.execute(\"ALTER TABLE FlightLeg ADD COLUMN flightType TEXT\")"
      ],
      "metadata": {
        "colab": {
          "base_uri": "https://localhost:8080/"
        },
        "id": "2gCnG5M9z_Wk",
        "outputId": "a9ab5a9e-cd3e-46b2-acaf-3b0b2182a04a"
      },
      "execution_count": null,
      "outputs": [
        {
          "output_type": "execute_result",
          "data": {
            "text/plain": [
              "<sqlite3.Cursor at 0x7f3d1f618ea0>"
            ]
          },
          "metadata": {},
          "execution_count": 9
        }
      ]
    },
    {
      "cell_type": "markdown",
      "source": [
        "Filling flightDuration column using sqlite option"
      ],
      "metadata": {
        "id": "7K6l2tPC2UkM"
      }
    },
    {
      "cell_type": "code",
      "source": [
        "cursor.execute(\"SELECT * FROM FlightLeg;\")\n",
        "\n",
        "for row in cursor.fetchall():\n",
        "  start = dt.datetime.strptime(row[6], '%Y-%m-%d %H:%M:%S')\n",
        "  end = dt.datetime.strptime(row[7], '%Y-%m-%d %H:%M:%S')\n",
        "  seconds = end - start\n",
        "  minutes = int(round((seconds.total_seconds() / 60), 0))\n",
        "\n",
        "  insert_time = (f\"UPDATE FlightLeg SET flightDuration = {minutes} WHERE id = {row[0]};\")\n",
        "  cursor.execute(insert_time)\n"
      ],
      "metadata": {
        "id": "JgE1wLbZzN9j"
      },
      "execution_count": null,
      "outputs": []
    },
    {
      "cell_type": "markdown",
      "source": [
        "Filling flightDuration column using dataframe option"
      ],
      "metadata": {
        "id": "n9EgFiKA2p5W"
      }
    },
    {
      "cell_type": "code",
      "source": [
        "for row in df.itertuples():\n",
        "  start = dt.datetime.strptime(row[6], '%Y-%m-%d %H:%M:%S')\n",
        "  end = dt.datetime.strptime(row[7], '%Y-%m-%d %H:%M:%S')\n",
        "  seconds = end - start\n",
        "  minutes = int(round((seconds.total_seconds() / 60), 0))\n",
        "\n",
        "  insert_time = (f\"UPDATE FlightLeg SET flightDuration = {minutes} WHERE id = {row[0]};\")\n",
        "  cursor.execute(insert_time)"
      ],
      "metadata": {
        "id": "kcsM7zz70wZ_"
      },
      "execution_count": null,
      "outputs": []
    },
    {
      "cell_type": "markdown",
      "source": [
        "Filling flightType column using sqlite option"
      ],
      "metadata": {
        "id": "3VrJXugj2urT"
      }
    },
    {
      "cell_type": "code",
      "source": [
        "cursor.execute(\"SELECT * FROM FlightLeg;\")\n",
        "\n",
        "for row in cursor.fetchall():\n",
        "  flight_type = ''\n",
        "\n",
        "  if row[3] == row[5]:\n",
        "    flight_type = 'D'\n",
        "  else:\n",
        "    flight_type = 'I'\n",
        "\n",
        "  insert_type = (f\"UPDATE FlightLeg SET flightType = '{flight_type}' WHERE id = {row[0]};\")\n",
        "  cursor.execute(insert_type)"
      ],
      "metadata": {
        "id": "NsVV_zLC0huF"
      },
      "execution_count": null,
      "outputs": []
    },
    {
      "cell_type": "markdown",
      "source": [
        "Filling flightType column using dataframe option"
      ],
      "metadata": {
        "id": "TZftw9Bv207g"
      }
    },
    {
      "cell_type": "code",
      "source": [
        "for row in df.itertuples():\n",
        "  flight_type = ''\n",
        "\n",
        "  if row[3] == row[5]:\n",
        "    flight_type = 'D'\n",
        "  else:\n",
        "    flight_type = 'I'\n",
        "\n",
        "  insert_type = (f\"UPDATE FlightLeg SET flightType = '{flight_type}' WHERE id = {row[0]};\")\n",
        "  cursor.execute(insert_type)"
      ],
      "metadata": {
        "id": "3IZIaJCA9AsE"
      },
      "execution_count": null,
      "outputs": []
    },
    {
      "cell_type": "markdown",
      "source": [
        "Commit of the table, to save all operations to database, from now we will only operate on questions to database"
      ],
      "metadata": {
        "id": "6w5G_-0T4PvJ"
      }
    },
    {
      "cell_type": "code",
      "source": [
        "connection.commit()"
      ],
      "metadata": {
        "id": "FO8mnNRa4BhT"
      },
      "execution_count": null,
      "outputs": []
    },
    {
      "cell_type": "markdown",
      "source": [
        "Also updating dataframe by adding the same columns and filling them, I will need this later when I will be implementing logic for questions using dataframe option"
      ],
      "metadata": {
        "id": "jf6zkcriogRt"
      }
    },
    {
      "cell_type": "code",
      "source": [
        "flight_time_col = []\n",
        "for row in df.itertuples():\n",
        "  start = dt.datetime.strptime(row[6], '%Y-%m-%d %H:%M:%S')\n",
        "  end = dt.datetime.strptime(row[7], '%Y-%m-%d %H:%M:%S')\n",
        "  seconds = end - start\n",
        "  minutes = int(round((seconds.total_seconds() / 60), 0))\n",
        "  flight_time_col.append(minutes)\n",
        "\n",
        "df['flight_time'] = flight_time_col\n",
        "\n",
        "flight_type_col = []\n",
        "for row in df.itertuples():\n",
        "  flight_type = ''\n",
        "\n",
        "  if row[3] == row[5]:\n",
        "    flight_type = 'D'\n",
        "  else:\n",
        "    flight_type = 'I'\n",
        "  flight_type_col.append(flight_type)\n",
        "\n",
        "df['flight_type'] = flight_type_col\n",
        "\n",
        "df.head()"
      ],
      "metadata": {
        "colab": {
          "base_uri": "https://localhost:8080/",
          "height": 337
        },
        "id": "88B0omsKlsDo",
        "outputId": "fae0b906-80d3-46c2-c488-5b32d4cbeaff"
      },
      "execution_count": null,
      "outputs": [
        {
          "output_type": "execute_result",
          "data": {
            "text/html": [
              "\n",
              "  <div id=\"df-ac05cd9a-9926-4d39-a07d-f8d0347d3dec\">\n",
              "    <div class=\"colab-df-container\">\n",
              "      <div>\n",
              "<style scoped>\n",
              "    .dataframe tbody tr th:only-of-type {\n",
              "        vertical-align: middle;\n",
              "    }\n",
              "\n",
              "    .dataframe tbody tr th {\n",
              "        vertical-align: top;\n",
              "    }\n",
              "\n",
              "    .dataframe thead th {\n",
              "        text-align: right;\n",
              "    }\n",
              "</style>\n",
              "<table border=\"1\" class=\"dataframe\">\n",
              "  <thead>\n",
              "    <tr style=\"text-align: right;\">\n",
              "      <th></th>\n",
              "      <th>tailNumber</th>\n",
              "      <th>source_airport_code</th>\n",
              "      <th>source_country_code</th>\n",
              "      <th>destination_airport_code</th>\n",
              "      <th>destination_country_code</th>\n",
              "      <th>departure_time</th>\n",
              "      <th>landing_time</th>\n",
              "      <th>flight_time</th>\n",
              "      <th>flight_type</th>\n",
              "    </tr>\n",
              "  </thead>\n",
              "  <tbody>\n",
              "    <tr>\n",
              "      <th>0</th>\n",
              "      <td>A6-EUC</td>\n",
              "      <td>DXB</td>\n",
              "      <td>ARE</td>\n",
              "      <td>CAI</td>\n",
              "      <td>EGY</td>\n",
              "      <td>2021-11-30 04:47:00</td>\n",
              "      <td>2021-11-30 08:25:00</td>\n",
              "      <td>218</td>\n",
              "      <td>I</td>\n",
              "    </tr>\n",
              "    <tr>\n",
              "      <th>1</th>\n",
              "      <td>A6-ENE</td>\n",
              "      <td>ACC</td>\n",
              "      <td>GHA</td>\n",
              "      <td>ABJ</td>\n",
              "      <td>CIV</td>\n",
              "      <td>2021-11-29 13:35:00</td>\n",
              "      <td>2021-11-29 14:17:00</td>\n",
              "      <td>42</td>\n",
              "      <td>I</td>\n",
              "    </tr>\n",
              "    <tr>\n",
              "      <th>2</th>\n",
              "      <td>A6-END</td>\n",
              "      <td>DXB</td>\n",
              "      <td>ARE</td>\n",
              "      <td>MNL</td>\n",
              "      <td>PHL</td>\n",
              "      <td>2021-11-27 23:50:11</td>\n",
              "      <td>2021-11-28 07:58:00</td>\n",
              "      <td>488</td>\n",
              "      <td>I</td>\n",
              "    </tr>\n",
              "    <tr>\n",
              "      <th>3</th>\n",
              "      <td>A6-EPD</td>\n",
              "      <td>IST</td>\n",
              "      <td>TUR</td>\n",
              "      <td>DXB</td>\n",
              "      <td>ARE</td>\n",
              "      <td>2021-11-28 17:51:53</td>\n",
              "      <td>2021-11-28 21:31:00</td>\n",
              "      <td>219</td>\n",
              "      <td>I</td>\n",
              "    </tr>\n",
              "    <tr>\n",
              "      <th>4</th>\n",
              "      <td>A6-EUU</td>\n",
              "      <td>JED</td>\n",
              "      <td>SAU</td>\n",
              "      <td>DXB</td>\n",
              "      <td>ARE</td>\n",
              "      <td>2021-11-28 08:53:00</td>\n",
              "      <td>2021-11-28 11:10:00</td>\n",
              "      <td>137</td>\n",
              "      <td>I</td>\n",
              "    </tr>\n",
              "  </tbody>\n",
              "</table>\n",
              "</div>\n",
              "      <button class=\"colab-df-convert\" onclick=\"convertToInteractive('df-ac05cd9a-9926-4d39-a07d-f8d0347d3dec')\"\n",
              "              title=\"Convert this dataframe to an interactive table.\"\n",
              "              style=\"display:none;\">\n",
              "        \n",
              "  <svg xmlns=\"http://www.w3.org/2000/svg\" height=\"24px\"viewBox=\"0 0 24 24\"\n",
              "       width=\"24px\">\n",
              "    <path d=\"M0 0h24v24H0V0z\" fill=\"none\"/>\n",
              "    <path d=\"M18.56 5.44l.94 2.06.94-2.06 2.06-.94-2.06-.94-.94-2.06-.94 2.06-2.06.94zm-11 1L8.5 8.5l.94-2.06 2.06-.94-2.06-.94L8.5 2.5l-.94 2.06-2.06.94zm10 10l.94 2.06.94-2.06 2.06-.94-2.06-.94-.94-2.06-.94 2.06-2.06.94z\"/><path d=\"M17.41 7.96l-1.37-1.37c-.4-.4-.92-.59-1.43-.59-.52 0-1.04.2-1.43.59L10.3 9.45l-7.72 7.72c-.78.78-.78 2.05 0 2.83L4 21.41c.39.39.9.59 1.41.59.51 0 1.02-.2 1.41-.59l7.78-7.78 2.81-2.81c.8-.78.8-2.07 0-2.86zM5.41 20L4 18.59l7.72-7.72 1.47 1.35L5.41 20z\"/>\n",
              "  </svg>\n",
              "      </button>\n",
              "      \n",
              "  <style>\n",
              "    .colab-df-container {\n",
              "      display:flex;\n",
              "      flex-wrap:wrap;\n",
              "      gap: 12px;\n",
              "    }\n",
              "\n",
              "    .colab-df-convert {\n",
              "      background-color: #E8F0FE;\n",
              "      border: none;\n",
              "      border-radius: 50%;\n",
              "      cursor: pointer;\n",
              "      display: none;\n",
              "      fill: #1967D2;\n",
              "      height: 32px;\n",
              "      padding: 0 0 0 0;\n",
              "      width: 32px;\n",
              "    }\n",
              "\n",
              "    .colab-df-convert:hover {\n",
              "      background-color: #E2EBFA;\n",
              "      box-shadow: 0px 1px 2px rgba(60, 64, 67, 0.3), 0px 1px 3px 1px rgba(60, 64, 67, 0.15);\n",
              "      fill: #174EA6;\n",
              "    }\n",
              "\n",
              "    [theme=dark] .colab-df-convert {\n",
              "      background-color: #3B4455;\n",
              "      fill: #D2E3FC;\n",
              "    }\n",
              "\n",
              "    [theme=dark] .colab-df-convert:hover {\n",
              "      background-color: #434B5C;\n",
              "      box-shadow: 0px 1px 3px 1px rgba(0, 0, 0, 0.15);\n",
              "      filter: drop-shadow(0px 1px 2px rgba(0, 0, 0, 0.3));\n",
              "      fill: #FFFFFF;\n",
              "    }\n",
              "  </style>\n",
              "\n",
              "      <script>\n",
              "        const buttonEl =\n",
              "          document.querySelector('#df-ac05cd9a-9926-4d39-a07d-f8d0347d3dec button.colab-df-convert');\n",
              "        buttonEl.style.display =\n",
              "          google.colab.kernel.accessAllowed ? 'block' : 'none';\n",
              "\n",
              "        async function convertToInteractive(key) {\n",
              "          const element = document.querySelector('#df-ac05cd9a-9926-4d39-a07d-f8d0347d3dec');\n",
              "          const dataTable =\n",
              "            await google.colab.kernel.invokeFunction('convertToInteractive',\n",
              "                                                     [key], {});\n",
              "          if (!dataTable) return;\n",
              "\n",
              "          const docLinkHtml = 'Like what you see? Visit the ' +\n",
              "            '<a target=\"_blank\" href=https://colab.research.google.com/notebooks/data_table.ipynb>data table notebook</a>'\n",
              "            + ' to learn more about interactive tables.';\n",
              "          element.innerHTML = '';\n",
              "          dataTable['output_type'] = 'display_data';\n",
              "          await google.colab.output.renderOutput(dataTable, element);\n",
              "          const docLink = document.createElement('div');\n",
              "          docLink.innerHTML = docLinkHtml;\n",
              "          element.appendChild(docLink);\n",
              "        }\n",
              "      </script>\n",
              "    </div>\n",
              "  </div>\n",
              "  "
            ],
            "text/plain": [
              "  tailNumber source_airport_code  ... flight_time flight_type\n",
              "0     A6-EUC                 DXB  ...         218           I\n",
              "1     A6-ENE                 ACC  ...          42           I\n",
              "2     A6-END                 DXB  ...         488           I\n",
              "3     A6-EPD                 IST  ...         219           I\n",
              "4     A6-EUU                 JED  ...         137           I\n",
              "\n",
              "[5 rows x 9 columns]"
            ]
          },
          "metadata": {},
          "execution_count": 16
        }
      ]
    },
    {
      "cell_type": "markdown",
      "source": [
        "Implementation of a logic that prints out tailNumber of a plane with most flights and number of that flights using sqlite option"
      ],
      "metadata": {
        "id": "pryYnHMm24V3"
      }
    },
    {
      "cell_type": "code",
      "source": [
        "cursor.execute(\"SELECT tailNumber FROM FlightLeg;\")\n",
        "row_list = cursor.fetchall()\n",
        "mvp_plane = ''\n",
        "top_count = 0\n",
        "\n",
        "for i in row_list:\n",
        "  count = 0\n",
        "  for j in row_list:\n",
        "    if j[0] == i[0]:\n",
        "      count += 1\n",
        "    else:\n",
        "      continue\n",
        "  if count > top_count:\n",
        "    top_count = count\n",
        "    mvp_plane = i[0]\n",
        "\n",
        "if count == 1:\n",
        "  print('All planes made just one flight! :O')\n",
        "else:\n",
        "  print(\"Plane that made the most flights is \"+mvp_plane+\" it made \"+str(top_count)+\" flights!\")"
      ],
      "metadata": {
        "colab": {
          "base_uri": "https://localhost:8080/"
        },
        "id": "vHO9ZZuk_bl6",
        "outputId": "3244d486-1ad9-42aa-8321-73a2f455db82"
      },
      "execution_count": null,
      "outputs": [
        {
          "output_type": "stream",
          "name": "stdout",
          "text": [
            "Plane that made the most flights is A6-ENE it made 13 flights!\n"
          ]
        }
      ]
    },
    {
      "cell_type": "markdown",
      "source": [
        "Implementation of a logic that prints out tailNumber of a plane with most flights and number of that flights using dataframe option"
      ],
      "metadata": {
        "id": "c9e-v4POiVDq"
      }
    },
    {
      "cell_type": "code",
      "source": [
        "mvp_plane = ''\n",
        "top_count = 0\n",
        "\n",
        "for i in df.itertuples():\n",
        "  count = 0\n",
        "  for j in df.itertuples():\n",
        "    if j[1] == i[1]:\n",
        "      count += 1\n",
        "    else:\n",
        "      continue\n",
        "  if count > top_count:\n",
        "    top_count = count\n",
        "    mvp_plane = i[1]\n",
        "\n",
        "if count == 1:\n",
        "  print('All planes made just one flight! :O')\n",
        "else:\n",
        "  print(\"Plane that made the most flights is \"+mvp_plane+\" it made \"+str(top_count)+\" flights!\")"
      ],
      "metadata": {
        "colab": {
          "base_uri": "https://localhost:8080/"
        },
        "id": "5ymAmb4rhCCK",
        "outputId": "b2e9bb61-e6eb-4ee7-b24a-0547a3a25c2a"
      },
      "execution_count": null,
      "outputs": [
        {
          "output_type": "stream",
          "name": "stdout",
          "text": [
            "Plane that made the most flights is A6-ENE it made 13 flights!\n"
          ]
        }
      ]
    },
    {
      "cell_type": "markdown",
      "source": [
        "Implementation of a logic that prints out tailNumber of a plane that made the longest flight and duration of that flight using sqlite option\n"
      ],
      "metadata": {
        "id": "0QorPxsb3ldz"
      }
    },
    {
      "cell_type": "code",
      "source": [
        "cursor.execute(\"SELECT tailNumber, flightDuration FROM FlightLeg;\")\n",
        "longest_flight = 0\n",
        "longest_plane = ''\n",
        "\n",
        "for row in cursor.fetchall():\n",
        "  if row[1] > longest_flight:\n",
        "    longest_plane = row[0]\n",
        "    longest_flight = row[1]\n",
        "  else:\n",
        "    continue\n",
        "\n",
        "print(\"Plane that made the longest flight is \"+longest_plane+\" it made \"+str(longest_flight)+\" minutes flight!\")"
      ],
      "metadata": {
        "colab": {
          "base_uri": "https://localhost:8080/"
        },
        "id": "qGHMbQThRJrX",
        "outputId": "be16dbef-3ba5-4f35-92a8-cc9598da41cb"
      },
      "execution_count": null,
      "outputs": [
        {
          "output_type": "stream",
          "name": "stdout",
          "text": [
            "Plane that made the longest flight is A6-EWH it made 966 minutes flight!\n"
          ]
        }
      ]
    },
    {
      "cell_type": "markdown",
      "source": [
        "Implementation of a logic that prints out tailNumber of a plane that made the longest flight and duration of that flight using dataframe option"
      ],
      "metadata": {
        "id": "gS5bZxNdkCLs"
      }
    },
    {
      "cell_type": "code",
      "source": [
        "longest_flight = 0\n",
        "longest_plane = ''\n",
        "\n",
        "for row in df.itertuples():\n",
        "  if int(row[8]) > longest_flight:\n",
        "    longest_plane = row[1]\n",
        "    longest_flight = row[8]\n",
        "  else:\n",
        "    continue\n",
        "\n",
        "print(\"Plane that made the longest flight is \"+longest_plane+\" it made \"+str(longest_flight)+\" minutes flight!\")"
      ],
      "metadata": {
        "colab": {
          "base_uri": "https://localhost:8080/"
        },
        "id": "qjkdaLtdieWq",
        "outputId": "2020275e-34f0-422f-90c3-8acb7626500f"
      },
      "execution_count": null,
      "outputs": [
        {
          "output_type": "stream",
          "name": "stdout",
          "text": [
            "Plane that made the longest flight is A6-EWH it made 966 minutes flight!\n"
          ]
        }
      ]
    },
    {
      "cell_type": "markdown",
      "source": [
        "Implementation of a logic that prints out tailNumbers of planes that made the longest domestic and international flights and duration of these flights using sqlite option"
      ],
      "metadata": {
        "id": "QyOBjyz831fK"
      }
    },
    {
      "cell_type": "code",
      "source": [
        "cursor.execute(\"SELECT tailNumber, flightDuration, flightType FROM FlightLeg;\")\n",
        "lngst_d_flight = 0\n",
        "lngst_i_flight = 0\n",
        "lngst_d_plane = ''\n",
        "lngst_i_plane = ''\n",
        "\n",
        "for row in cursor.fetchall():\n",
        "  if row[2] == 'D':\n",
        "    if row[1] > lngst_d_flight:\n",
        "      lngst_d_plane = row[0]\n",
        "      lngst_d_flight = row[1]\n",
        "    else:\n",
        "      continue\n",
        "  else:\n",
        "    if row[1] > lngst_i_flight:\n",
        "      lngst_i_plane = row[0]\n",
        "      lngst_i_flight = row[1]\n",
        "    else:\n",
        "      continue\n",
        "\n",
        "print(\"Plane that made the longest domestic flight is \"+lngst_d_plane+\" it made \"+str(lngst_d_flight)+\" minutes flight!\")\n",
        "print(\"Plane that made the longest international flight is \"+lngst_i_plane+\" it made \"+str(lngst_i_flight)+\" minutes flight!\")"
      ],
      "metadata": {
        "colab": {
          "base_uri": "https://localhost:8080/"
        },
        "id": "ekMod1P9TZqL",
        "outputId": "099143fe-5bba-4549-e940-245f42a6d071"
      },
      "execution_count": null,
      "outputs": [
        {
          "output_type": "stream",
          "name": "stdout",
          "text": [
            "Plane that made the longest domestic flight is A6-EES it made 126 minutes flight!\n",
            "Plane that made the longest international flight is A6-EWH it made 966 minutes flight!\n"
          ]
        }
      ]
    },
    {
      "cell_type": "markdown",
      "source": [
        "Implementation of a logic that prints out tailNumbers of planes that made the shortest domestic and international flights and duration of these flights using sqlite option"
      ],
      "metadata": {
        "id": "Pe7pLNJs4Zz6"
      }
    },
    {
      "cell_type": "code",
      "source": [
        "cursor.execute(\"SELECT tailNumber, flightDuration, flightType FROM FlightLeg;\")\n",
        "\n",
        "shrst_d_flight = lngst_d_flight\n",
        "shrst_i_flight = lngst_i_flight\n",
        "shrst_d_plane = ''\n",
        "shrst_i_plane = ''\n",
        "\n",
        "for row in cursor.fetchall():\n",
        "  if row[2] == 'D':\n",
        "    if row[1] < shrst_d_flight:\n",
        "      shrst_d_plane = row[0]\n",
        "      shrst_d_flight = row[1]\n",
        "    else:\n",
        "      continue\n",
        "  else:\n",
        "    if row[1] < shrst_i_flight:\n",
        "      shrst_i_plane = row[0]\n",
        "      shrst_i_flight = row[1]\n",
        "    else:\n",
        "      continue\n",
        "\n",
        "print(\"Plane that made the shortest domestic flight is \"+shrst_d_plane+\" it made \"+str(shrst_d_flight)+\" minutes flight!\")\n",
        "print(\"Plane that made the shortest international flight is \"+shrst_i_plane+\" it made \"+str(shrst_i_flight)+\" minutes flight!\")"
      ],
      "metadata": {
        "colab": {
          "base_uri": "https://localhost:8080/"
        },
        "id": "1eFkGJ0zboZG",
        "outputId": "45ab0eed-b8fa-4053-9ffa-3ac0f69e93a2"
      },
      "execution_count": null,
      "outputs": [
        {
          "output_type": "stream",
          "name": "stdout",
          "text": [
            "Plane that made the shortest domestic flight is A6-ECH it made 61 minutes flight!\n",
            "Plane that made the shortest international flight is A6-ENE it made 42 minutes flight!\n"
          ]
        }
      ]
    },
    {
      "cell_type": "markdown",
      "source": [
        "Implementation of a logic that prints out tailNumbers of planes that made the longest and the shortest domestic and international flights and duration of these flights using dataframe option"
      ],
      "metadata": {
        "id": "S2rP5FFfp5ix"
      }
    },
    {
      "cell_type": "code",
      "source": [
        "lngst_d_flight = 0\n",
        "lngst_i_flight = 0\n",
        "lngst_d_plane = ''\n",
        "lngst_i_plane = ''\n",
        "\n",
        "for row in df.itertuples():\n",
        "  if row[9] == 'D':\n",
        "    if row[8] > lngst_d_flight:\n",
        "      lngst_d_plane = row[1]\n",
        "      lngst_d_flight = row[8]\n",
        "    else:\n",
        "      continue\n",
        "  else:\n",
        "    if row[8] > lngst_i_flight:\n",
        "      lngst_i_plane = row[1]\n",
        "      lngst_i_flight = row[8]\n",
        "    else:\n",
        "      continue\n",
        "\n",
        "print(\"Plane that made the longest domestic flight is \"+lngst_d_plane+\" it made \"+str(lngst_d_flight)+\" minutes flight!\")\n",
        "print(\"Plane that made the longest international flight is \"+lngst_i_plane+\" it made \"+str(lngst_i_flight)+\" minutes flight!\")\n",
        "\n",
        "shrst_d_flight = lngst_d_flight\n",
        "shrst_i_flight = lngst_i_flight\n",
        "shrst_d_plane = ''\n",
        "shrst_i_plane = ''\n",
        "\n",
        "for row in df.itertuples():\n",
        "  if row[9] == 'D':\n",
        "    if row[8] < shrst_d_flight:\n",
        "      shrst_d_plane = row[1]\n",
        "      shrst_d_flight = row[8]\n",
        "    else:\n",
        "      continue\n",
        "  else:\n",
        "    if row[8] < shrst_i_flight:\n",
        "      shrst_i_plane = row[1]\n",
        "      shrst_i_flight = row[8]\n",
        "    else:\n",
        "      continue\n",
        "\n",
        "print(\"Plane that made the shortest domestic flight is \"+shrst_d_plane+\" it made \"+str(shrst_d_flight)+\" minutes flight!\")\n",
        "print(\"Plane that made the shortest international flight is \"+shrst_i_plane+\" it made \"+str(shrst_i_flight)+\" minutes flight!\")"
      ],
      "metadata": {
        "colab": {
          "base_uri": "https://localhost:8080/"
        },
        "id": "2OcG2AzJpbVs",
        "outputId": "e86cd0b2-4704-451c-eaf0-50ce97f695d2"
      },
      "execution_count": null,
      "outputs": [
        {
          "output_type": "stream",
          "name": "stdout",
          "text": [
            "Plane that made the longest domestic flight is A6-EES it made 126 minutes flight!\n",
            "Plane that made the longest international flight is A6-EWH it made 966 minutes flight!\n",
            "Plane that made the shortest domestic flight is A6-ECH it made 61 minutes flight!\n",
            "Plane that made the shortest international flight is A6-ENE it made 42 minutes flight!\n"
          ]
        }
      ]
    },
    {
      "cell_type": "markdown",
      "source": [
        "Implementation of a logic that prints out number of flights that are mistakes (when a plane is doing more than one in the same time), along with tailNumber and departureTimeUtc of that mistaken flight, using sqlite option"
      ],
      "metadata": {
        "id": "PPmm60cL00cd"
      }
    },
    {
      "cell_type": "code",
      "source": [
        "cursor.execute(\"SELECT tailNumber, departureTimeUtc FROM FlightLeg;\")\n",
        "row_list = cursor.fetchall()\n",
        "mistakes = []\n",
        "\n",
        "for i in row_list:\n",
        "  mstk = 0\n",
        "  for j in row_list:\n",
        "    if str(j[1]) == str(i[1]):\n",
        "      mstk += 1\n",
        "    else:\n",
        "      continue\n",
        "  if mstk > 1:\n",
        "    mistakes.append(i)\n",
        "\n",
        "print(\"There are \"+str(len(mistakes))+\" records that are mistakes\")\n",
        "print(\"These records are mistakes:\")\n",
        "for i in mistakes:\n",
        "  print(i)"
      ],
      "metadata": {
        "colab": {
          "base_uri": "https://localhost:8080/"
        },
        "id": "OXFS4HItszgH",
        "outputId": "d7c3335c-eb70-4824-8fa9-a31c81009409"
      },
      "execution_count": null,
      "outputs": [
        {
          "output_type": "stream",
          "name": "stdout",
          "text": [
            "There are 69 records that are mistakes\n",
            "These records are mistakes:\n",
            "('A6-EVF', '2021-11-30 22:57:00')\n",
            "('A6-EQI', '2021-11-27 23:12:00')\n",
            "('A6-ECT', '2021-11-29 14:53:00')\n",
            "('A6-ENI', '2021-11-28 22:20:00')\n",
            "('A6-ECQ', '2021-11-29 05:23:00')\n",
            "('A6-EGZ', '2021-11-29 14:53:00')\n",
            "('A6-EEU', '2021-11-30 22:29:00')\n",
            "('A6-ENN', '2021-11-28 05:26:00')\n",
            "('A6-ENS', '2021-11-30 05:20:00')\n",
            "('A6-ENJ', '2021-11-29 11:33:00')\n",
            "('A6-ENW', '2021-11-30 14:09:00')\n",
            "('A6-EUD', '2021-11-29 13:51:00')\n",
            "('A6-EVI', '2021-11-29 04:27:00')\n",
            "('A6-EBU', '2021-11-29 05:07:00')\n",
            "('A6-EUM', '2021-11-29 04:39:00')\n",
            "('A6-EOD', '2021-11-28 04:29:00')\n",
            "('A6-EGZ', '2021-11-30 05:20:00')\n",
            "('A6-ECF', '2021-11-29 17:59:00')\n",
            "('A6-ECF', '2021-11-30 16:50:00')\n",
            "('A6-EVP', '2021-11-29 14:03:00')\n",
            "('A6-EGE', '2021-11-29 23:33:00')\n",
            "('A6-ENG', '2021-11-30 05:20:00')\n",
            "('A6-EEU', '2021-11-29 21:18:00')\n",
            "('A6-EPS', '2021-11-29 21:18:00')\n",
            "('A6-ECS', '2021-11-30 15:45:00')\n",
            "('A6-EOU', '2021-11-29 05:23:00')\n",
            "('A6-EPM', '2021-11-29 05:07:00')\n",
            "('A6-EUB', '2021-11-28 05:26:00')\n",
            "('A6-EEN', '2021-11-30 14:09:00')\n",
            "('A6-EVH', '2021-11-30 15:45:00')\n",
            "('A6-EOM', '2021-11-27 21:08:00')\n",
            "('A6-ENS', '2021-11-28 04:34:00')\n",
            "('A6-EEE', '2021-11-29 13:51:00')\n",
            "('A6-EQN', '2021-11-28 12:56:00')\n",
            "('A6-EPX', '2021-11-30 15:03:00')\n",
            "('A6-EQL', '2021-11-29 23:13:00')\n",
            "('A6-EEA', '2021-11-29 17:59:00')\n",
            "('A6-EPD', '2021-11-28 04:29:00')\n",
            "('A6-ENJ', '2021-11-29 04:27:00')\n",
            "('A6-ENL', '2021-11-29 22:55:00')\n",
            "('A6-EEX', '2021-11-29 22:45:00')\n",
            "('A6-EUN', '2021-11-28 22:20:00')\n",
            "('A6-EUM', '2021-11-30 04:30:00')\n",
            "('A6-ECV', '2021-11-28 05:43:00')\n",
            "('A6-EGY', '2021-11-30 22:57:00')\n",
            "('A6-EUC', '2021-11-29 13:57:00')\n",
            "('A6-EGE', '2021-11-28 14:02:00')\n",
            "('A6-EWB', '2021-11-30 15:03:00')\n",
            "('A6-EOU', '2021-11-28 14:02:00')\n",
            "('A6-EGB', '2021-11-30 23:11:00')\n",
            "('A6-EGT', '2021-11-29 11:33:00')\n",
            "('A6-EPM', '2021-11-28 12:56:00')\n",
            "('A6-EUB', '2021-11-30 22:29:00')\n",
            "('A6-EQH', '2021-11-29 04:39:00')\n",
            "('A6-EOE', '2021-11-29 13:57:00')\n",
            "('A6-EPB', '2021-11-29 22:55:00')\n",
            "('A6-EQN', '2021-11-30 04:30:00')\n",
            "('A6-ENG', '2021-11-27 23:12:00')\n",
            "('A6-EGU', '2021-11-28 05:43:00')\n",
            "('A6-ECM', '2021-11-28 21:58:00')\n",
            "('A6-EVC', '2021-11-29 22:45:00')\n",
            "('A6-EVG', '2021-11-30 16:50:00')\n",
            "('A6-EOZ', '2021-11-29 14:03:00')\n",
            "('A6-ECU', '2021-11-29 23:13:00')\n",
            "('A6-EGZ', '2021-11-29 23:33:00')\n",
            "('A6-EVB', '2021-11-27 21:08:00')\n",
            "('A6-EEV', '2021-11-28 21:58:00')\n",
            "('A6-EBK', '2021-11-30 23:11:00')\n",
            "('A6-EBU', '2021-11-28 04:34:00')\n"
          ]
        }
      ]
    },
    {
      "cell_type": "markdown",
      "source": [
        "Implementation of a logic that prints out number of flights that are mistakes (when a plane is doing more than one in the same time), along with tailNumber and departureTimeUtc of that mistaken flight, using dataframe option\n",
        "\n",
        "I also noticed that this option takes much more time to complete than the sqlite option"
      ],
      "metadata": {
        "id": "IM3A0eG72oUj"
      }
    },
    {
      "cell_type": "code",
      "source": [
        "mistakes = []\n",
        "\n",
        "for i in df.itertuples():\n",
        "  mstk = 0\n",
        "  for j in df.itertuples():\n",
        "    if str(j[6]) == str(i[6]):\n",
        "      mstk += 1\n",
        "    else:\n",
        "      continue\n",
        "  if mstk > 1:\n",
        "    mistakes.append(i)\n",
        "\n",
        "print(\"There are \"+str(len(mistakes))+\" records that are mistakes\")\n",
        "print(\"These records are mistakes:\")\n",
        "for i in mistakes:\n",
        "  print(i[1]+' '+i[6])"
      ],
      "metadata": {
        "colab": {
          "base_uri": "https://localhost:8080/"
        },
        "id": "AOq8RLxN1u9E",
        "outputId": "e96b7ba3-f86d-446b-e8a8-e80ab73b4a85"
      },
      "execution_count": null,
      "outputs": [
        {
          "output_type": "stream",
          "name": "stdout",
          "text": [
            "There are 69 records that are mistakes\n",
            "These records are mistakes:\n",
            "A6-EVF 2021-11-30 22:57:00\n",
            "A6-EQI 2021-11-27 23:12:00\n",
            "A6-ECT 2021-11-29 14:53:00\n",
            "A6-ENI 2021-11-28 22:20:00\n",
            "A6-ECQ 2021-11-29 05:23:00\n",
            "A6-EGZ 2021-11-29 14:53:00\n",
            "A6-EEU 2021-11-30 22:29:00\n",
            "A6-ENN 2021-11-28 05:26:00\n",
            "A6-ENS 2021-11-30 05:20:00\n",
            "A6-ENJ 2021-11-29 11:33:00\n",
            "A6-ENW 2021-11-30 14:09:00\n",
            "A6-EUD 2021-11-29 13:51:00\n",
            "A6-EVI 2021-11-29 04:27:00\n",
            "A6-EBU 2021-11-29 05:07:00\n",
            "A6-EUM 2021-11-29 04:39:00\n",
            "A6-EOD 2021-11-28 04:29:00\n",
            "A6-EGZ 2021-11-30 05:20:00\n",
            "A6-ECF 2021-11-29 17:59:00\n",
            "A6-ECF 2021-11-30 16:50:00\n",
            "A6-EVP 2021-11-29 14:03:00\n",
            "A6-EGE 2021-11-29 23:33:00\n",
            "A6-ENG 2021-11-30 05:20:00\n",
            "A6-EEU 2021-11-29 21:18:00\n",
            "A6-EPS 2021-11-29 21:18:00\n",
            "A6-ECS 2021-11-30 15:45:00\n",
            "A6-EOU 2021-11-29 05:23:00\n",
            "A6-EPM 2021-11-29 05:07:00\n",
            "A6-EUB 2021-11-28 05:26:00\n",
            "A6-EEN 2021-11-30 14:09:00\n",
            "A6-EVH 2021-11-30 15:45:00\n",
            "A6-EOM 2021-11-27 21:08:00\n",
            "A6-ENS 2021-11-28 04:34:00\n",
            "A6-EEE 2021-11-29 13:51:00\n",
            "A6-EQN 2021-11-28 12:56:00\n",
            "A6-EPX 2021-11-30 15:03:00\n",
            "A6-EQL 2021-11-29 23:13:00\n",
            "A6-EEA 2021-11-29 17:59:00\n",
            "A6-EPD 2021-11-28 04:29:00\n",
            "A6-ENJ 2021-11-29 04:27:00\n",
            "A6-ENL 2021-11-29 22:55:00\n",
            "A6-EEX 2021-11-29 22:45:00\n",
            "A6-EUN 2021-11-28 22:20:00\n",
            "A6-EUM 2021-11-30 04:30:00\n",
            "A6-ECV 2021-11-28 05:43:00\n",
            "A6-EGY 2021-11-30 22:57:00\n",
            "A6-EUC 2021-11-29 13:57:00\n",
            "A6-EGE 2021-11-28 14:02:00\n",
            "A6-EWB 2021-11-30 15:03:00\n",
            "A6-EOU 2021-11-28 14:02:00\n",
            "A6-EGB 2021-11-30 23:11:00\n",
            "A6-EGT 2021-11-29 11:33:00\n",
            "A6-EPM 2021-11-28 12:56:00\n",
            "A6-EUB 2021-11-30 22:29:00\n",
            "A6-EQH 2021-11-29 04:39:00\n",
            "A6-EOE 2021-11-29 13:57:00\n",
            "A6-EPB 2021-11-29 22:55:00\n",
            "A6-EQN 2021-11-30 04:30:00\n",
            "A6-ENG 2021-11-27 23:12:00\n",
            "A6-EGU 2021-11-28 05:43:00\n",
            "A6-ECM 2021-11-28 21:58:00\n",
            "A6-EVC 2021-11-29 22:45:00\n",
            "A6-EVG 2021-11-30 16:50:00\n",
            "A6-EOZ 2021-11-29 14:03:00\n",
            "A6-ECU 2021-11-29 23:13:00\n",
            "A6-EGZ 2021-11-29 23:33:00\n",
            "A6-EVB 2021-11-27 21:08:00\n",
            "A6-EEV 2021-11-28 21:58:00\n",
            "A6-EBK 2021-11-30 23:11:00\n",
            "A6-EBU 2021-11-28 04:34:00\n"
          ]
        }
      ]
    },
    {
      "cell_type": "markdown",
      "source": [
        "Implementation of a logic that measures time period between flights of any given plane, I made it so the plane is chosen randomly from the table, so if you run this logic few times you'll see different results, here I used sqlite option"
      ],
      "metadata": {
        "id": "GKzNo-N-X8yB"
      }
    },
    {
      "cell_type": "code",
      "source": [
        "cursor.execute(\"SELECT tailNumber, departureTimeUtc, landingTimeUtc FROM FlightLeg;\")\n",
        "row_list = cursor.fetchall()\n",
        "plane = random.choice(row_list)\n",
        "flight_list = []\n",
        "lngst_time_period = []\n",
        "\n",
        "for i in row_list:\n",
        "  if i[0] == plane[0]:\n",
        "    flight_list.append(i)\n",
        "\n",
        "for j in range(len(flight_list)):\n",
        "  start = dt.datetime.strptime(flight_list[j][2], '%Y-%m-%d %H:%M:%S')\n",
        "  if j + 1 < len(flight_list):\n",
        "    end = dt.datetime.strptime(flight_list[j + 1][1], '%Y-%m-%d %H:%M:%S')\n",
        "  else:\n",
        "    pass\n",
        "  if end > start:\n",
        "    seconds = end - start\n",
        "  else:\n",
        "    seconds = start - end\n",
        "  minutes = int(round((seconds.total_seconds() / 60), 0))\n",
        "  lngst_time_period.append(minutes)\n",
        "\n",
        "for i in range(len(lngst_time_period) - 1):\n",
        "  for j in range(0, len(lngst_time_period) - i - 1):\n",
        "    if lngst_time_period[j] < lngst_time_period[j + 1]:\n",
        "      lngst_time_period[j], lngst_time_period[j + 1] = lngst_time_period[j + 1], lngst_time_period[j]\n",
        "\n",
        "print(\"Longest time period between fligths of a plane \"+plane[0]+\" is \"+str(lngst_time_period[0])+\" minutes!\")\n",
        "print(\"Shortest time period between fligths of a plane \"+plane[0]+\" is \"+str(lngst_time_period[-1])+\" minutes!\")"
      ],
      "metadata": {
        "colab": {
          "base_uri": "https://localhost:8080/"
        },
        "id": "wBEeeIr5DG1I",
        "outputId": "c3988901-cc1a-491a-9311-a4d2a1a50f52"
      },
      "execution_count": null,
      "outputs": [
        {
          "output_type": "stream",
          "name": "stdout",
          "text": [
            "Longest time period between fligths of a plane A6-EGC is 1895 minutes!\n",
            "Shortest time period between fligths of a plane A6-EGC is 532 minutes!\n"
          ]
        }
      ]
    },
    {
      "cell_type": "markdown",
      "source": [
        "Implementation of a logic that measures time period between flights of any given plane, I made it so the plane is chosen randomly from the table, so if you run this logic few times you'll see different results, here I used dataframe option"
      ],
      "metadata": {
        "id": "Qflyl-xrYsJ-"
      }
    },
    {
      "cell_type": "code",
      "source": [
        "row_list = [row for row in df.itertuples()]\n",
        "plane = random.choice(row_list)\n",
        "flight_list = []\n",
        "lngst_time_period = []\n",
        "\n",
        "for i in row_list:\n",
        "  if i[1] == plane[1]:\n",
        "    flight_list.append(i)\n",
        "\n",
        "for j in range(len(flight_list)):\n",
        "  start = dt.datetime.strptime(flight_list[j][7], '%Y-%m-%d %H:%M:%S')\n",
        "  if j + 1 < len(flight_list):\n",
        "    end = dt.datetime.strptime(flight_list[j + 1][6], '%Y-%m-%d %H:%M:%S')\n",
        "  else:\n",
        "    pass\n",
        "  if end > start:\n",
        "    seconds = end - start\n",
        "  else:\n",
        "    seconds = start - end\n",
        "  minutes = int(round((seconds.total_seconds() / 60), 0))\n",
        "  lngst_time_period.append(minutes)\n",
        "\n",
        "for i in range(len(lngst_time_period) - 1):\n",
        "  for j in range(0, len(lngst_time_period) - i - 1):\n",
        "    if lngst_time_period[j] < lngst_time_period[j + 1]:\n",
        "      lngst_time_period[j], lngst_time_period[j + 1] = lngst_time_period[j + 1], lngst_time_period[j]\n",
        "\n",
        "print(\"Longest time period between fligths of a plane \"+plane[1]+\" is \"+str(lngst_time_period[0])+\" minutes!\")\n",
        "print(\"Shortest time period between fligths of a plane \"+plane[1]+\" is \"+str(lngst_time_period[-1])+\" minutes!\")"
      ],
      "metadata": {
        "colab": {
          "base_uri": "https://localhost:8080/"
        },
        "id": "bSWmWrWGPb0B",
        "outputId": "09331d24-9dfd-46a5-a205-3cfa4b95bae5"
      },
      "execution_count": null,
      "outputs": [
        {
          "output_type": "stream",
          "name": "stdout",
          "text": [
            "Longest time period between fligths of a plane A6-EUN is 3871 minutes!\n",
            "Shortest time period between fligths of a plane A6-EUN is 459 minutes!\n"
          ]
        }
      ]
    },
    {
      "cell_type": "markdown",
      "source": [
        "Final commit of the table for safety measures"
      ],
      "metadata": {
        "id": "z7ixNnDF5pm-"
      }
    },
    {
      "cell_type": "code",
      "source": [
        "connection.commit()"
      ],
      "metadata": {
        "id": "xQOlXCMWmVZ6"
      },
      "execution_count": null,
      "outputs": []
    },
    {
      "cell_type": "markdown",
      "source": [
        "Here is just a print of the table transormed into dataframe again, I used it to check if everything is going right"
      ],
      "metadata": {
        "id": "yUE1VLI94kE3"
      }
    },
    {
      "cell_type": "code",
      "source": [
        "cursor.execute(\"SELECT * FROM FlightLeg\")\n",
        "results = []\n",
        "for row in cursor.fetchall():\n",
        "  results.append(row)\n",
        "print_res = pd.DataFrame(results)\n",
        "print(print_res)"
      ],
      "metadata": {
        "colab": {
          "base_uri": "https://localhost:8080/"
        },
        "id": "VYwIdl0yjE2i",
        "outputId": "126099a8-35ed-4f3b-ab22-a93d77723659"
      },
      "execution_count": null,
      "outputs": [
        {
          "output_type": "stream",
          "name": "stdout",
          "text": [
            "       0       1    2    3  ...                    6                    7    8  9\n",
            "0      0  A6-EUC  DXB  ARE  ...  2021-11-30 04:47:00  2021-11-30 08:25:00  218  I\n",
            "1      1  A6-ENE  ACC  GHA  ...  2021-11-29 13:35:00  2021-11-29 14:17:00   42  I\n",
            "2      2  A6-END  DXB  ARE  ...  2021-11-27 23:50:11  2021-11-28 07:58:00  488  I\n",
            "3      3  A6-EPD  IST  TUR  ...  2021-11-28 17:51:53  2021-11-28 21:31:00  219  I\n",
            "4      4  A6-EUU  JED  SAU  ...  2021-11-28 08:53:00  2021-11-28 11:10:00  137  I\n",
            "..   ...     ...  ...  ...  ...                  ...                  ...  ... ..\n",
            "995  995  A6-EOV  DXB  ARE  ...  2021-11-28 13:01:00  2021-11-28 17:48:00  287  I\n",
            "996  996  A6-EGW  ZAZ  ESP  ...  2021-11-28 17:37:30  2021-11-29 00:08:00  390  I\n",
            "997  997  A6-EGT  BKK  THA  ...  2021-11-28 13:22:06  2021-11-28 19:33:00  371  I\n",
            "998  998  A6-EGP  DXB  ARE  ...  2021-11-29 04:51:00  2021-11-29 19:07:00  856  I\n",
            "999  999  A6-EVJ  LHR  GBR  ...  2021-11-29 16:27:00  2021-11-29 22:29:00  362  I\n",
            "\n",
            "[1000 rows x 10 columns]\n"
          ]
        }
      ]
    },
    {
      "cell_type": "markdown",
      "source": [
        "From looking at booth options I used, the dataframe and sqlite, I conlude that using dataframes requires less code, but unfortunately sometimes it takes more time, using sqlite we work on the original table, and do not have to transfer it from dataframe to a table first and because of that I think that working more with sqlite is better"
      ],
      "metadata": {
        "id": "uLWnPBVnqhE7"
      }
    }
  ]
}